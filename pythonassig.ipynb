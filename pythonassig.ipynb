{
 "cells": [
  {
   "cell_type": "raw",
   "id": "a9318d46-bd32-4b29-bb7a-0f8d6e037f20",
   "metadata": {},
   "source": [
    "Q1-Write all the conventional being followed while declaring a variable.\n",
    "Ans- when we declaring a variable, there are several convection that are typically followed to make the code relatable and maintainable \n",
    ".start variable names with a letter or underscore: In most programing languages, variable names must begin with a letter or underscore character\n",
    ".declare variable with a appropiate data type, such as nteger, float strings etc\n",
    ".use constants for values that do not change\n",
    ".do not use reserve words"
   ]
  },
  {
   "cell_type": "raw",
   "id": "d469d28c-5d92-4a73-8834-256789bbb220",
   "metadata": {},
   "source": [
    "Q2-What will happen if we declare a restrict keyword as a variable?\n",
    "Ans-It will result in a syntax error during execuation"
   ]
  },
  {
   "cell_type": "raw",
   "id": "269d6177-632f-4dc1-8a57-4c9cc80c18da",
   "metadata": {},
   "source": [
    "Q3-Can we actually declare a string as a various name?\n",
    "Ans- Yes it is technically possible"
   ]
  },
  {
   "cell_type": "raw",
   "id": "990edacf-5277-4db7-a3f6-124167c109ff",
   "metadata": {},
   "source": [
    "Q4-Is it possible for us to declare \"_\" as a variable?If so, then write an example on it.\n",
    "Ans- Yes it is possible to declare underscore as variable"
   ]
  },
  {
   "cell_type": "code",
   "execution_count": 1,
   "id": "4cbb398e-1fa3-41a6-a22b-f9fa76647f98",
   "metadata": {},
   "outputs": [
    {
     "name": "stdout",
     "output_type": "stream",
     "text": [
      "18\n"
     ]
    }
   ],
   "source": [
    "_=18           #example 4\n",
    "print(_)"
   ]
  },
  {
   "cell_type": "raw",
   "id": "cddcdc48-80ed-4c4f-901f-d0f69c6c9d8f",
   "metadata": {},
   "source": [
    "Q5-Using an example, explain how the variable in pyton are dynamic in nature."
   ]
  },
  {
   "cell_type": "raw",
   "id": "d095a5e7-dace-4651-b5fb-94477e593be9",
   "metadata": {},
   "source": [
    "Ans- Python are dynamic in nature beca"
   ]
  },
  {
   "cell_type": "code",
   "execution_count": null,
   "id": "e44fd9b5-a993-4657-93f1-78ed8002040d",
   "metadata": {},
   "outputs": [],
   "source": []
  },
  {
   "cell_type": "code",
   "execution_count": null,
   "id": "12a16263-395a-4569-a595-14117221759c",
   "metadata": {},
   "outputs": [],
   "source": []
  },
  {
   "cell_type": "code",
   "execution_count": null,
   "id": "c2c1240c-3931-49fd-9d4f-ac554446319b",
   "metadata": {},
   "outputs": [],
   "source": []
  },
  {
   "cell_type": "code",
   "execution_count": null,
   "id": "b12d2b62-72a9-48d3-8420-d41dc6659909",
   "metadata": {},
   "outputs": [],
   "source": []
  },
  {
   "cell_type": "code",
   "execution_count": null,
   "id": "dda8ef9c-2e59-4bb5-8eec-845a42d660e8",
   "metadata": {},
   "outputs": [],
   "source": []
  },
  {
   "cell_type": "code",
   "execution_count": null,
   "id": "4b204780-f97c-4f1c-9eab-06f268bf259b",
   "metadata": {},
   "outputs": [],
   "source": []
  }
 ],
 "metadata": {
  "kernelspec": {
   "display_name": "Python 3 (ipykernel)",
   "language": "python",
   "name": "python3"
  },
  "language_info": {
   "codemirror_mode": {
    "name": "ipython",
    "version": 3
   },
   "file_extension": ".py",
   "mimetype": "text/x-python",
   "name": "python",
   "nbconvert_exporter": "python",
   "pygments_lexer": "ipython3",
   "version": "3.10.8"
  }
 },
 "nbformat": 4,
 "nbformat_minor": 5
}
